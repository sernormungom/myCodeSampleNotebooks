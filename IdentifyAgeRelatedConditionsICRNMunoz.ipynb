{
 "cells": [
  {
   "cell_type": "code",
   "execution_count": 1,
   "id": "255884e6",
   "metadata": {
    "execution": {
     "iopub.execute_input": "2024-09-04T10:57:07.867856Z",
     "iopub.status.busy": "2024-09-04T10:57:07.867279Z",
     "iopub.status.idle": "2024-09-04T10:57:16.036901Z",
     "shell.execute_reply": "2024-09-04T10:57:16.035656Z"
    },
    "id": "V5s0iQ82okBv",
    "papermill": {
     "duration": 8.18344,
     "end_time": "2024-09-04T10:57:16.039791",
     "exception": false,
     "start_time": "2024-09-04T10:57:07.856351",
     "status": "completed"
    },
    "tags": []
   },
   "outputs": [],
   "source": [
    "import shap\n",
    "import sklearn\n",
    "import itertools\n",
    "import numpy as np\n",
    "import pandas as pd\n",
    "import seaborn as sns\n",
    "import matplotlib.pyplot as plt\n",
    "\n",
    "from sklearn.tree import DecisionTreeClassifier\n",
    "from sklearn.ensemble import RandomForestClassifier\n",
    "from sklearn.model_selection import train_test_split\n"
   ]
  },
  {
   "cell_type": "markdown",
   "id": "13e512c4",
   "metadata": {
    "id": "YckMl2bwg5Hb",
    "papermill": {
     "duration": 0.008148,
     "end_time": "2024-09-04T10:57:16.056706",
     "exception": false,
     "start_time": "2024-09-04T10:57:16.048558",
     "status": "completed"
    },
    "tags": []
   },
   "source": [
    "### Load the dataset"
   ]
  },
  {
   "cell_type": "code",
   "execution_count": 2,
   "id": "611c0c6c",
   "metadata": {
    "execution": {
     "iopub.execute_input": "2024-09-04T10:57:16.075178Z",
     "iopub.status.busy": "2024-09-04T10:57:16.074625Z",
     "iopub.status.idle": "2024-09-04T10:57:16.149805Z",
     "shell.execute_reply": "2024-09-04T10:57:16.148660Z"
    },
    "id": "iM2qfgvUs9c_",
    "outputId": "53895f4d-48f8-429f-b447-e175a80472d9",
    "papermill": {
     "duration": 0.087621,
     "end_time": "2024-09-04T10:57:16.152556",
     "exception": false,
     "start_time": "2024-09-04T10:57:16.064935",
     "status": "completed"
    },
    "tags": []
   },
   "outputs": [],
   "source": [
    "dfTrain = pd.read_csv(\"/kaggle/input/icr-identify-age-related-conditions/train.csv\")\n",
    "dfTest = pd.read_csv(\"/kaggle/input/icr-identify-age-related-conditions/test.csv\")\n",
    "dfMeta = pd.read_csv(\"/kaggle/input/icr-identify-age-related-conditions/greeks.csv\")\n",
    "dfSubmit = pd.read_csv(\"/kaggle/input/icr-identify-age-related-conditions/sample_submission.csv\")"
   ]
  },
  {
   "cell_type": "markdown",
   "id": "ac02206d",
   "metadata": {
    "id": "L6ijpFDIx_I6",
    "papermill": {
     "duration": 0.007934,
     "end_time": "2024-09-04T10:57:16.168898",
     "exception": false,
     "start_time": "2024-09-04T10:57:16.160964",
     "status": "completed"
    },
    "tags": []
   },
   "source": [
    "### Explore the Dataset and deal with missing data\n",
    "\n",
    "We will look here at the data, missing values and how to deal with them."
   ]
  },
  {
   "cell_type": "code",
   "execution_count": 3,
   "id": "0738de02",
   "metadata": {
    "execution": {
     "iopub.execute_input": "2024-09-04T10:57:16.186786Z",
     "iopub.status.busy": "2024-09-04T10:57:16.186335Z",
     "iopub.status.idle": "2024-09-04T10:57:16.228375Z",
     "shell.execute_reply": "2024-09-04T10:57:16.227266Z"
    },
    "id": "V4gvn20Gx-pF",
    "outputId": "b8e98069-70a6-425c-b26e-fc18571c2233",
    "papermill": {
     "duration": 0.054089,
     "end_time": "2024-09-04T10:57:16.231077",
     "exception": false,
     "start_time": "2024-09-04T10:57:16.176988",
     "status": "completed"
    },
    "tags": []
   },
   "outputs": [
    {
     "name": "stdout",
     "output_type": "stream",
     "text": [
      "Train df shape: (617, 58), Test df shape: (5, 57)\n"
     ]
    },
    {
     "data": {
      "text/html": [
       "<div>\n",
       "<style scoped>\n",
       "    .dataframe tbody tr th:only-of-type {\n",
       "        vertical-align: middle;\n",
       "    }\n",
       "\n",
       "    .dataframe tbody tr th {\n",
       "        vertical-align: top;\n",
       "    }\n",
       "\n",
       "    .dataframe thead th {\n",
       "        text-align: right;\n",
       "    }\n",
       "</style>\n",
       "<table border=\"1\" class=\"dataframe\">\n",
       "  <thead>\n",
       "    <tr style=\"text-align: right;\">\n",
       "      <th></th>\n",
       "      <th>Id</th>\n",
       "      <th>AB</th>\n",
       "      <th>AF</th>\n",
       "      <th>AH</th>\n",
       "      <th>AM</th>\n",
       "      <th>AR</th>\n",
       "      <th>AX</th>\n",
       "      <th>AY</th>\n",
       "      <th>AZ</th>\n",
       "      <th>BC</th>\n",
       "      <th>...</th>\n",
       "      <th>FL</th>\n",
       "      <th>FR</th>\n",
       "      <th>FS</th>\n",
       "      <th>GB</th>\n",
       "      <th>GE</th>\n",
       "      <th>GF</th>\n",
       "      <th>GH</th>\n",
       "      <th>GI</th>\n",
       "      <th>GL</th>\n",
       "      <th>Class</th>\n",
       "    </tr>\n",
       "  </thead>\n",
       "  <tbody>\n",
       "    <tr>\n",
       "      <th>0</th>\n",
       "      <td>000ff2bfdfe9</td>\n",
       "      <td>0.209377</td>\n",
       "      <td>3109.03329</td>\n",
       "      <td>85.200147</td>\n",
       "      <td>22.394407</td>\n",
       "      <td>8.138688</td>\n",
       "      <td>0.699861</td>\n",
       "      <td>0.025578</td>\n",
       "      <td>9.812214</td>\n",
       "      <td>5.555634</td>\n",
       "      <td>...</td>\n",
       "      <td>7.298162</td>\n",
       "      <td>1.73855</td>\n",
       "      <td>0.094822</td>\n",
       "      <td>11.339138</td>\n",
       "      <td>72.611063</td>\n",
       "      <td>2003.810319</td>\n",
       "      <td>22.136229</td>\n",
       "      <td>69.834944</td>\n",
       "      <td>0.120343</td>\n",
       "      <td>1</td>\n",
       "    </tr>\n",
       "    <tr>\n",
       "      <th>1</th>\n",
       "      <td>007255e47698</td>\n",
       "      <td>0.145282</td>\n",
       "      <td>978.76416</td>\n",
       "      <td>85.200147</td>\n",
       "      <td>36.968889</td>\n",
       "      <td>8.138688</td>\n",
       "      <td>3.632190</td>\n",
       "      <td>0.025578</td>\n",
       "      <td>13.517790</td>\n",
       "      <td>1.229900</td>\n",
       "      <td>...</td>\n",
       "      <td>0.173229</td>\n",
       "      <td>0.49706</td>\n",
       "      <td>0.568932</td>\n",
       "      <td>9.292698</td>\n",
       "      <td>72.611063</td>\n",
       "      <td>27981.562750</td>\n",
       "      <td>29.135430</td>\n",
       "      <td>32.131996</td>\n",
       "      <td>21.978000</td>\n",
       "      <td>0</td>\n",
       "    </tr>\n",
       "    <tr>\n",
       "      <th>2</th>\n",
       "      <td>013f2bd269f5</td>\n",
       "      <td>0.470030</td>\n",
       "      <td>2635.10654</td>\n",
       "      <td>85.200147</td>\n",
       "      <td>32.360553</td>\n",
       "      <td>8.138688</td>\n",
       "      <td>6.732840</td>\n",
       "      <td>0.025578</td>\n",
       "      <td>12.824570</td>\n",
       "      <td>1.229900</td>\n",
       "      <td>...</td>\n",
       "      <td>7.709560</td>\n",
       "      <td>0.97556</td>\n",
       "      <td>1.198821</td>\n",
       "      <td>37.077772</td>\n",
       "      <td>88.609437</td>\n",
       "      <td>13676.957810</td>\n",
       "      <td>28.022851</td>\n",
       "      <td>35.192676</td>\n",
       "      <td>0.196941</td>\n",
       "      <td>0</td>\n",
       "    </tr>\n",
       "    <tr>\n",
       "      <th>3</th>\n",
       "      <td>043ac50845d5</td>\n",
       "      <td>0.252107</td>\n",
       "      <td>3819.65177</td>\n",
       "      <td>120.201618</td>\n",
       "      <td>77.112203</td>\n",
       "      <td>8.138688</td>\n",
       "      <td>3.685344</td>\n",
       "      <td>0.025578</td>\n",
       "      <td>11.053708</td>\n",
       "      <td>1.229900</td>\n",
       "      <td>...</td>\n",
       "      <td>6.122162</td>\n",
       "      <td>0.49706</td>\n",
       "      <td>0.284466</td>\n",
       "      <td>18.529584</td>\n",
       "      <td>82.416803</td>\n",
       "      <td>2094.262452</td>\n",
       "      <td>39.948656</td>\n",
       "      <td>90.493248</td>\n",
       "      <td>0.155829</td>\n",
       "      <td>0</td>\n",
       "    </tr>\n",
       "    <tr>\n",
       "      <th>4</th>\n",
       "      <td>044fb8a146ec</td>\n",
       "      <td>0.380297</td>\n",
       "      <td>3733.04844</td>\n",
       "      <td>85.200147</td>\n",
       "      <td>14.103738</td>\n",
       "      <td>8.138688</td>\n",
       "      <td>3.942255</td>\n",
       "      <td>0.054810</td>\n",
       "      <td>3.396778</td>\n",
       "      <td>102.151980</td>\n",
       "      <td>...</td>\n",
       "      <td>8.153058</td>\n",
       "      <td>48.50134</td>\n",
       "      <td>0.121914</td>\n",
       "      <td>16.408728</td>\n",
       "      <td>146.109943</td>\n",
       "      <td>8524.370502</td>\n",
       "      <td>45.381316</td>\n",
       "      <td>36.262628</td>\n",
       "      <td>0.096614</td>\n",
       "      <td>1</td>\n",
       "    </tr>\n",
       "  </tbody>\n",
       "</table>\n",
       "<p>5 rows × 58 columns</p>\n",
       "</div>"
      ],
      "text/plain": [
       "             Id        AB          AF          AH         AM        AR  \\\n",
       "0  000ff2bfdfe9  0.209377  3109.03329   85.200147  22.394407  8.138688   \n",
       "1  007255e47698  0.145282   978.76416   85.200147  36.968889  8.138688   \n",
       "2  013f2bd269f5  0.470030  2635.10654   85.200147  32.360553  8.138688   \n",
       "3  043ac50845d5  0.252107  3819.65177  120.201618  77.112203  8.138688   \n",
       "4  044fb8a146ec  0.380297  3733.04844   85.200147  14.103738  8.138688   \n",
       "\n",
       "         AX        AY         AZ          BC  ...        FL        FR  \\\n",
       "0  0.699861  0.025578   9.812214    5.555634  ...  7.298162   1.73855   \n",
       "1  3.632190  0.025578  13.517790    1.229900  ...  0.173229   0.49706   \n",
       "2  6.732840  0.025578  12.824570    1.229900  ...  7.709560   0.97556   \n",
       "3  3.685344  0.025578  11.053708    1.229900  ...  6.122162   0.49706   \n",
       "4  3.942255  0.054810   3.396778  102.151980  ...  8.153058  48.50134   \n",
       "\n",
       "         FS         GB          GE            GF         GH         GI  \\\n",
       "0  0.094822  11.339138   72.611063   2003.810319  22.136229  69.834944   \n",
       "1  0.568932   9.292698   72.611063  27981.562750  29.135430  32.131996   \n",
       "2  1.198821  37.077772   88.609437  13676.957810  28.022851  35.192676   \n",
       "3  0.284466  18.529584   82.416803   2094.262452  39.948656  90.493248   \n",
       "4  0.121914  16.408728  146.109943   8524.370502  45.381316  36.262628   \n",
       "\n",
       "          GL  Class  \n",
       "0   0.120343      1  \n",
       "1  21.978000      0  \n",
       "2   0.196941      0  \n",
       "3   0.155829      0  \n",
       "4   0.096614      1  \n",
       "\n",
       "[5 rows x 58 columns]"
      ]
     },
     "execution_count": 3,
     "metadata": {},
     "output_type": "execute_result"
    }
   ],
   "source": [
    "print(\"Train df shape: {}, Test df shape: {}\".format(dfTrain.shape,dfTest.shape))\n",
    "dfTrain.head()"
   ]
  },
  {
   "cell_type": "markdown",
   "id": "1c6d6e8b",
   "metadata": {
    "id": "1VTEfpTXpamz",
    "papermill": {
     "duration": 0.008617,
     "end_time": "2024-09-04T10:57:16.248469",
     "exception": false,
     "start_time": "2024-09-04T10:57:16.239852",
     "status": "completed"
    },
    "tags": []
   },
   "source": [
    "Some values in the output of the previous cell are marked as `NaN` (\"not a number\"). Let's examine the missing data pattern with `seaborn` heatmap."
   ]
  },
  {
   "cell_type": "code",
   "execution_count": 4,
   "id": "9cfc2e52",
   "metadata": {
    "execution": {
     "iopub.execute_input": "2024-09-04T10:57:16.268247Z",
     "iopub.status.busy": "2024-09-04T10:57:16.267453Z",
     "iopub.status.idle": "2024-09-04T10:57:16.272040Z",
     "shell.execute_reply": "2024-09-04T10:57:16.271027Z"
    },
    "id": "SPNsph0HirU-",
    "outputId": "14cc7dc6-49af-4e42-b9fe-7d4a935dd135",
    "papermill": {
     "duration": 0.017211,
     "end_time": "2024-09-04T10:57:16.274333",
     "exception": false,
     "start_time": "2024-09-04T10:57:16.257122",
     "status": "completed"
    },
    "tags": []
   },
   "outputs": [],
   "source": [
    "# sns.heatmap(dfTrain.isnull(), cbar=False)\n",
    "# plt.title(\"Training\")\n",
    "# plt.show()"
   ]
  },
  {
   "cell_type": "code",
   "execution_count": 5,
   "id": "aa976722",
   "metadata": {
    "execution": {
     "iopub.execute_input": "2024-09-04T10:57:16.293703Z",
     "iopub.status.busy": "2024-09-04T10:57:16.293246Z",
     "iopub.status.idle": "2024-09-04T10:57:16.308470Z",
     "shell.execute_reply": "2024-09-04T10:57:16.307107Z"
    },
    "papermill": {
     "duration": 0.028092,
     "end_time": "2024-09-04T10:57:16.311128",
     "exception": false,
     "start_time": "2024-09-04T10:57:16.283036",
     "status": "completed"
    },
    "tags": []
   },
   "outputs": [
    {
     "name": "stdout",
     "output_type": "stream",
     "text": [
      "Number of NaNs for Train dataframe\n",
      "BQ    60\n",
      "CB     2\n",
      "CC     3\n",
      "DU     1\n",
      "EL    60\n",
      "FC     1\n",
      "FL     1\n",
      "FS     2\n",
      "GL     1\n",
      "dtype: int64\n",
      "Number of NaNs Test dataframe:\n",
      "Series([], dtype: float64)\n"
     ]
    }
   ],
   "source": [
    "columns_with_nan = dfTrain.columns[dfTrain.isna().any()].tolist()\n",
    "nan_counts = dfTrain[columns_with_nan].isna().sum()\n",
    "print(\"Number of NaNs for Train dataframe\")\n",
    "print(nan_counts)\n",
    "columns_with_nan = dfTest.columns[dfTest.isna().any()].tolist()\n",
    "nan_counts = dfTest[columns_with_nan].isna().sum()\n",
    "print(\"Number of NaNs Test dataframe:\")\n",
    "print(nan_counts)"
   ]
  },
  {
   "cell_type": "markdown",
   "id": "1d608e64",
   "metadata": {
    "papermill": {
     "duration": 0.008722,
     "end_time": "2024-09-04T10:57:16.328945",
     "exception": false,
     "start_time": "2024-09-04T10:57:16.320223",
     "status": "completed"
    },
    "tags": []
   },
   "source": [
    "No NaNs on the test dataframe, and train is not that bad. Let's use simple mean to replace NaNs in train df. And get our training, development and testing dataframes."
   ]
  },
  {
   "cell_type": "code",
   "execution_count": 6,
   "id": "389a82ea",
   "metadata": {
    "execution": {
     "iopub.execute_input": "2024-09-04T10:57:16.349382Z",
     "iopub.status.busy": "2024-09-04T10:57:16.348961Z",
     "iopub.status.idle": "2024-09-04T10:57:16.374277Z",
     "shell.execute_reply": "2024-09-04T10:57:16.373235Z"
    },
    "papermill": {
     "duration": 0.039091,
     "end_time": "2024-09-04T10:57:16.376986",
     "exception": false,
     "start_time": "2024-09-04T10:57:16.337895",
     "status": "completed"
    },
    "tags": []
   },
   "outputs": [],
   "source": [
    "y_dev = dfTrain.Class\n",
    "X_train = dfTrain.copy()\n",
    "X_test = dfTest.copy()\n",
    "\n",
    "#EJ is categorical, so we will transform it to 1 and ~0 (we will use rates and want to avoid division by 0) \n",
    "X_train = X_train.drop('Id', axis = 1)\n",
    "X_train['EJ'] = X_train['EJ'].map({'A':0.001,'B':1})\n",
    "X_train = X_train.apply(lambda col: col.fillna(col.mean()), axis=0)\n",
    "X_test.drop('Id', axis = 1)\n",
    "X_test['EJ'] = X_test['EJ'].map({'A':0.001,'B':1})"
   ]
  },
  {
   "cell_type": "code",
   "execution_count": 7,
   "id": "d5042b19",
   "metadata": {
    "execution": {
     "iopub.execute_input": "2024-09-04T10:57:16.397009Z",
     "iopub.status.busy": "2024-09-04T10:57:16.396581Z",
     "iopub.status.idle": "2024-09-04T10:57:16.404176Z",
     "shell.execute_reply": "2024-09-04T10:57:16.403286Z"
    },
    "papermill": {
     "duration": 0.020607,
     "end_time": "2024-09-04T10:57:16.406530",
     "exception": false,
     "start_time": "2024-09-04T10:57:16.385923",
     "status": "completed"
    },
    "tags": []
   },
   "outputs": [],
   "source": [
    "def groupCalculate(data):\n",
    "    columns = data.columns\n",
    "    index = 0\n",
    "    new_columns = {}\n",
    "    for column1 in columns:\n",
    "        index += 1\n",
    "        for column2 in columns[index:]:\n",
    "            new_column_name = '{}/{}'.format(column1, column2)\n",
    "            new_columns[new_column_name] = data[column1] / (data[column2] + 0.00001)\n",
    "    \n",
    "    new_columns_df = pd.DataFrame(new_columns)\n",
    "    result = pd.concat([data, new_columns_df], axis=1)\n",
    "    return result"
   ]
  },
  {
   "cell_type": "code",
   "execution_count": 8,
   "id": "15ece56c",
   "metadata": {
    "execution": {
     "iopub.execute_input": "2024-09-04T10:57:16.426063Z",
     "iopub.status.busy": "2024-09-04T10:57:16.425645Z",
     "iopub.status.idle": "2024-09-04T10:57:16.442103Z",
     "shell.execute_reply": "2024-09-04T10:57:16.441069Z"
    },
    "papermill": {
     "duration": 0.029219,
     "end_time": "2024-09-04T10:57:16.444714",
     "exception": false,
     "start_time": "2024-09-04T10:57:16.415495",
     "status": "completed"
    },
    "tags": []
   },
   "outputs": [],
   "source": [
    "corr_values = np.abs(X_train.corr().iloc[:, -1]).sort_values().index\n",
    "X_dev = X_train[corr_values[:-1]]\n",
    "X_test = X_test[corr_values[:-1]]"
   ]
  },
  {
   "cell_type": "code",
   "execution_count": 9,
   "id": "40fa74ac",
   "metadata": {
    "execution": {
     "iopub.execute_input": "2024-09-04T10:57:16.464738Z",
     "iopub.status.busy": "2024-09-04T10:57:16.464277Z",
     "iopub.status.idle": "2024-09-04T10:57:17.395030Z",
     "shell.execute_reply": "2024-09-04T10:57:17.394023Z"
    },
    "papermill": {
     "duration": 0.943849,
     "end_time": "2024-09-04T10:57:17.397815",
     "exception": false,
     "start_time": "2024-09-04T10:57:16.453966",
     "status": "completed"
    },
    "tags": []
   },
   "outputs": [],
   "source": [
    "X_dev = groupCalculate(X_dev)\n",
    "X_test = groupCalculate(X_test)"
   ]
  },
  {
   "cell_type": "markdown",
   "id": "aee4da92",
   "metadata": {
    "papermill": {
     "duration": 0.009036,
     "end_time": "2024-09-04T10:57:17.415840",
     "exception": false,
     "start_time": "2024-09-04T10:57:17.406804",
     "status": "completed"
    },
    "tags": []
   },
   "source": [
    "Split the dev set into a training and validation set,to train and tune our models, using a 75/25 split."
   ]
  },
  {
   "cell_type": "code",
   "execution_count": 10,
   "id": "71ce9c8d",
   "metadata": {
    "execution": {
     "iopub.execute_input": "2024-09-04T10:57:17.436187Z",
     "iopub.status.busy": "2024-09-04T10:57:17.435208Z",
     "iopub.status.idle": "2024-09-04T10:57:17.450989Z",
     "shell.execute_reply": "2024-09-04T10:57:17.449869Z"
    },
    "papermill": {
     "duration": 0.028827,
     "end_time": "2024-09-04T10:57:17.453631",
     "exception": false,
     "start_time": "2024-09-04T10:57:17.424804",
     "status": "completed"
    },
    "tags": []
   },
   "outputs": [],
   "source": [
    "X_train, X_val, y_train, y_val = train_test_split(X_dev, y_dev, test_size=0.25, random_state=1)"
   ]
  },
  {
   "cell_type": "code",
   "execution_count": 11,
   "id": "451faf3b",
   "metadata": {
    "execution": {
     "iopub.execute_input": "2024-09-04T10:57:17.473980Z",
     "iopub.status.busy": "2024-09-04T10:57:17.472953Z",
     "iopub.status.idle": "2024-09-04T10:57:17.483043Z",
     "shell.execute_reply": "2024-09-04T10:57:17.481903Z"
    },
    "papermill": {
     "duration": 0.022792,
     "end_time": "2024-09-04T10:57:17.485400",
     "exception": false,
     "start_time": "2024-09-04T10:57:17.462608",
     "status": "completed"
    },
    "tags": []
   },
   "outputs": [],
   "source": [
    "#We will evaluate using concordance index\n",
    "def concordance_index(event_observed, predicted_scores):\n",
    "    if isinstance(event_observed, (pd.DataFrame, pd.Series)):\n",
    "        event_observed = event_observed.values.flatten()\n",
    "    if isinstance(predicted_scores, (pd.DataFrame, pd.Series)):\n",
    "        predicted_scores = predicted_scores.values.flatten()\n",
    "    \n",
    "    n = len(event_observed)\n",
    "    assert n == len(predicted_scores)\n",
    "    \n",
    "    num_pairs = 0\n",
    "    num_correct_pairs = 0\n",
    "    \n",
    "    for i in range(n):\n",
    "        for j in range(i + 1, n):\n",
    "            if event_observed[i] != event_observed[j]:\n",
    "                num_pairs += 1\n",
    "                if (event_observed[i] > event_observed[j] and predicted_scores[i] > predicted_scores[j]) or \\\n",
    "                   (event_observed[i] < event_observed[j] and predicted_scores[i] < predicted_scores[j]):\n",
    "                    num_correct_pairs += 1\n",
    "                elif predicted_scores[i] == predicted_scores[j]:\n",
    "                    num_correct_pairs += 0.5\n",
    "    \n",
    "    return num_correct_pairs / num_pairs if num_pairs > 0 else np.nan"
   ]
  },
  {
   "cell_type": "code",
   "execution_count": 12,
   "id": "ba1ede07",
   "metadata": {
    "execution": {
     "iopub.execute_input": "2024-09-04T10:57:17.505049Z",
     "iopub.status.busy": "2024-09-04T10:57:17.504622Z",
     "iopub.status.idle": "2024-09-04T10:57:17.510038Z",
     "shell.execute_reply": "2024-09-04T10:57:17.508909Z"
    },
    "id": "q7qeLJyEpUxF",
    "outputId": "44f1e245-de92-4028-af9a-87d4bf4c5285",
    "papermill": {
     "duration": 0.018162,
     "end_time": "2024-09-04T10:57:17.512493",
     "exception": false,
     "start_time": "2024-09-04T10:57:17.494331",
     "status": "completed"
    },
    "tags": []
   },
   "outputs": [],
   "source": [
    "#Just to test initially we use a decision tree classifier\n",
    "# dt_hyperparams = {\n",
    "#     'max_depth': 7,\n",
    "#     'max_leaf_nodes':40\n",
    "# }\n",
    "# dt = DecisionTreeClassifier(**dt_hyperparams, random_state=10)\n",
    "# dt.fit(X_train, y_train)\n",
    "\n",
    "# y_train_preds = dt.predict_proba(X_train)[:, 1]\n",
    "# print(f\"Train C-Index: {concordance_index(y_train.values, y_train_preds)}\")\n",
    "# y_val_preds = dt.predict_proba(X_val)[:, 1]\n",
    "# print(f\"Val C-Index: {concordance_index(y_val.values, y_val_preds)}\")\n",
    "# print(f\"mio: {concordance_index(y_train.values, y_train_preds)+concordance_index(y_val.values, y_val_preds)}\")"
   ]
  },
  {
   "cell_type": "code",
   "execution_count": 13,
   "id": "8610e612",
   "metadata": {
    "execution": {
     "iopub.execute_input": "2024-09-04T10:57:17.532805Z",
     "iopub.status.busy": "2024-09-04T10:57:17.531526Z",
     "iopub.status.idle": "2024-09-04T10:57:17.537098Z",
     "shell.execute_reply": "2024-09-04T10:57:17.536012Z"
    },
    "id": "OKQco4cItPY2",
    "outputId": "996f244e-5d96-4562-b17c-834986380dfe",
    "papermill": {
     "duration": 0.018122,
     "end_time": "2024-09-04T10:57:17.539519",
     "exception": false,
     "start_time": "2024-09-04T10:57:17.521397",
     "status": "completed"
    },
    "tags": []
   },
   "outputs": [],
   "source": [
    "#Random forest are the go to solution for this kind of prognostics\n",
    "# rf = RandomForestClassifier(n_estimators=100, random_state=10)\n",
    "# rf.fit(X_train, y_train)\n",
    "\n",
    "# y_train_rf_preds = rf.predict_proba(X_train)[:, 1]\n",
    "# print(f\"Train C-Index: {concordance_index(y_train.values, y_train_rf_preds)}\")\n",
    "\n",
    "# y_val_rf_preds = rf.predict_proba(X_val)[:, 1]\n",
    "# print(f\"Val C-Index: {concordance_index(y_val.values, y_val_rf_preds)}\")\n",
    "# print(f\"mio: {concordance_index(y_train.values, y_train_rf_preds)+concordance_index(y_val.values, y_val_rf_preds)}\")"
   ]
  },
  {
   "cell_type": "markdown",
   "id": "192cae0a",
   "metadata": {
    "id": "qkcdnwYgw80C",
    "papermill": {
     "duration": 0.008646,
     "end_time": "2024-09-04T10:57:17.557159",
     "exception": false,
     "start_time": "2024-09-04T10:57:17.548513",
     "status": "completed"
    },
    "tags": []
   },
   "source": [
    "I took this functions from Coursera's trainig, are quite goot to estimate hyperparameters, finding a model that both has good predictive performance and minimizes overfitting.\n",
    "\n",
    "The hyperparameters to adjust are:\n",
    "\n",
    "- `n_estimators`: the number of trees used in the forest.\n",
    "- `max_depth`: the maximum depth of each tree.\n",
    "- `min_samples_leaf`: the minimum number (if `int`) or proportion (if `float`) of samples in a leaf.\n",
    "\n",
    "The approach we implement to tune the hyperparameters is known as a grid search:\n",
    "\n",
    "- We define a set of possible values for each of the target hyperparameters.\n",
    "\n",
    "- A model is trained and evaluated for every possible combination of hyperparameters.\n",
    "\n",
    "- The best performing set of hyperparameters is returned.\n",
    "\n",
    "The cell below implements a hyperparameter grid search, using the C-Index to evaluate each tested model."
   ]
  },
  {
   "cell_type": "code",
   "execution_count": 14,
   "id": "7ee9a46a",
   "metadata": {
    "execution": {
     "iopub.execute_input": "2024-09-04T10:57:17.577402Z",
     "iopub.status.busy": "2024-09-04T10:57:17.576526Z",
     "iopub.status.idle": "2024-09-04T10:57:17.588054Z",
     "shell.execute_reply": "2024-09-04T10:57:17.587001Z"
    },
    "id": "eHX56jeLzvA7",
    "outputId": "24f2082c-7e52-4713-d83e-4cf77db767eb",
    "papermill": {
     "duration": 0.024494,
     "end_time": "2024-09-04T10:57:17.590463",
     "exception": false,
     "start_time": "2024-09-04T10:57:17.565969",
     "status": "completed"
    },
    "tags": []
   },
   "outputs": [],
   "source": [
    "def holdout_grid_search(clf, X_train_hp, y_train_hp, X_val_hp, y_val_hp, hyperparams, fixed_hyperparams={}):\n",
    "    '''\n",
    "    Conduct hyperparameter grid search on hold out validation set. Use holdout validation.\n",
    "    Hyperparameters are input as a dictionary mapping each hyperparameter name to the\n",
    "    range of values they should iterate over. Use the cindex function as your evaluation\n",
    "    function.\n",
    "\n",
    "    Input:\n",
    "        clf: sklearn classifier\n",
    "        X_train_hp (dataframe): dataframe for training set input variables\n",
    "        y_train_hp (dataframe): dataframe for training set targets\n",
    "        X_val_hp (dataframe): dataframe for validation set input variables\n",
    "        y_val_hp (dataframe): dataframe for validation set targets\n",
    "        hyperparams (dict): hyperparameter dictionary mapping hyperparameter\n",
    "                            names to range of values for grid search\n",
    "        fixed_hyperparams (dict): dictionary of fixed hyperparameters that\n",
    "                                  are not included in the grid search\n",
    "    Output:\n",
    "        best_estimator (sklearn classifier): fitted sklearn classifier with best performance on\n",
    "                                             validation set\n",
    "        best_hyperparams (dict): hyperparameter dictionary mapping hyperparameter\n",
    "                                 names to values in best_estimator\n",
    "    '''\n",
    "    best_estimator = None\n",
    "    best_hyperparams = {}\n",
    "    best_score = 0.0\n",
    "    lists = hyperparams.values()\n",
    "    param_combinations = list(itertools.product(*lists))\n",
    "    total_param_combinations = len(param_combinations)\n",
    "    for i, params in enumerate(param_combinations, 1):\n",
    "        param_dict = {}\n",
    "        for param_index, param_name in enumerate(hyperparams):\n",
    "            param_dict[param_name] = params[param_index]\n",
    "        estimator = clf(**param_dict, **fixed_hyperparams)\n",
    "        estimator.fit(X_train_hp, y_train_hp)\n",
    "        preds = estimator.predict_proba(X_val_hp)\n",
    "        estimator_score = concordance_index(y_val_hp, preds[:,1])\n",
    "\n",
    "        print(f'[{i}/{total_param_combinations}] {param_dict}')\n",
    "        print(f'Val C-Index: {estimator_score}\\n')\n",
    "        if estimator_score >= best_score:\n",
    "                best_score = estimator_score\n",
    "                best_estimator = estimator\n",
    "                best_hyperparams = param_dict\n",
    "    best_hyperparams.update(fixed_hyperparams)\n",
    "    return best_estimator, best_hyperparams"
   ]
  },
  {
   "cell_type": "code",
   "execution_count": 15,
   "id": "b79caebe",
   "metadata": {
    "execution": {
     "iopub.execute_input": "2024-09-04T10:57:17.610626Z",
     "iopub.status.busy": "2024-09-04T10:57:17.610181Z",
     "iopub.status.idle": "2024-09-04T10:57:17.618707Z",
     "shell.execute_reply": "2024-09-04T10:57:17.617569Z"
    },
    "papermill": {
     "duration": 0.021271,
     "end_time": "2024-09-04T10:57:17.621116",
     "exception": false,
     "start_time": "2024-09-04T10:57:17.599845",
     "status": "completed"
    },
    "tags": []
   },
   "outputs": [],
   "source": [
    "#I have tested in a larger grid, leaving here only a couple of good values.\n",
    "def random_forest_grid_search(X_train, y_train, X_val, y_val):\n",
    "    hyperparams = {\n",
    "        'n_estimators': [990, 1000],\n",
    "        'max_depth': [100000, 200000],\n",
    "        'min_samples_leaf': [1, 2],\n",
    "    }\n",
    "    fixed_hyperparams = {\n",
    "        'random_state': 10,\n",
    "    }\n",
    "    rf = RandomForestClassifier\n",
    "    best_rf, best_hyperparams = holdout_grid_search(rf, X_train, y_train,\n",
    "                                                    X_val, y_val, hyperparams,\n",
    "                                                    fixed_hyperparams)\n",
    "    print(f\"Best hyperparameters:\\n{best_hyperparams}\")\n",
    "    y_train_best = best_rf.predict_proba(X_train)[:, 1]\n",
    "    print(f\"Train C-Index: {concordance_index(y_train, y_train_best)}\")\n",
    "    y_val_best = best_rf.predict_proba(X_val)[:, 1]\n",
    "    print(f\"Val C-Index: {concordance_index(y_val, y_val_best)}\")\n",
    "    best_hyperparams.update(fixed_hyperparams)\n",
    "    \n",
    "    return best_rf, best_hyperparams"
   ]
  },
  {
   "cell_type": "code",
   "execution_count": 16,
   "id": "062cfbf6",
   "metadata": {
    "execution": {
     "iopub.execute_input": "2024-09-04T10:57:17.640736Z",
     "iopub.status.busy": "2024-09-04T10:57:17.640259Z",
     "iopub.status.idle": "2024-09-04T10:57:17.645101Z",
     "shell.execute_reply": "2024-09-04T10:57:17.644082Z"
    },
    "papermill": {
     "duration": 0.017439,
     "end_time": "2024-09-04T10:57:17.647403",
     "exception": false,
     "start_time": "2024-09-04T10:57:17.629964",
     "status": "completed"
    },
    "tags": []
   },
   "outputs": [],
   "source": [
    "# best_rf, best_hyperparams = random_forest_grid_search(X_train, y_train, X_val, y_val)"
   ]
  },
  {
   "cell_type": "code",
   "execution_count": 17,
   "id": "5b3d89a5",
   "metadata": {
    "execution": {
     "iopub.execute_input": "2024-09-04T10:57:17.666796Z",
     "iopub.status.busy": "2024-09-04T10:57:17.666083Z",
     "iopub.status.idle": "2024-09-04T10:57:33.825069Z",
     "shell.execute_reply": "2024-09-04T10:57:33.823957Z"
    },
    "papermill": {
     "duration": 16.171555,
     "end_time": "2024-09-04T10:57:33.827812",
     "exception": false,
     "start_time": "2024-09-04T10:57:17.656257",
     "status": "completed"
    },
    "tags": []
   },
   "outputs": [],
   "source": [
    "best_hyperparams = {\n",
    "    'n_estimators': 1000,\n",
    "    'max_depth': 200000,\n",
    "    'min_samples_leaf': 2,\n",
    "    'random_state': 10,\n",
    "}\n",
    "model = RandomForestClassifier(**best_hyperparams)\n",
    "model.fit(X_dev,y_dev)\n",
    "preds = model.predict_proba(X_test)"
   ]
  },
  {
   "cell_type": "code",
   "execution_count": 18,
   "id": "f1513e74",
   "metadata": {
    "execution": {
     "iopub.execute_input": "2024-09-04T10:57:33.847783Z",
     "iopub.status.busy": "2024-09-04T10:57:33.847350Z",
     "iopub.status.idle": "2024-09-04T10:57:33.857432Z",
     "shell.execute_reply": "2024-09-04T10:57:33.856294Z"
    },
    "papermill": {
     "duration": 0.023253,
     "end_time": "2024-09-04T10:57:33.860102",
     "exception": false,
     "start_time": "2024-09-04T10:57:33.836849",
     "status": "completed"
    },
    "tags": []
   },
   "outputs": [],
   "source": [
    "dfSubmit[['class_0', 'class_1']] = np.mean(preds, axis=0)\n",
    "dfSubmit.to_csv('/kaggle/working/submission.csv', index=False)"
   ]
  },
  {
   "cell_type": "code",
   "execution_count": null,
   "id": "f9a5a32e",
   "metadata": {
    "papermill": {
     "duration": 0.008725,
     "end_time": "2024-09-04T10:57:33.877802",
     "exception": false,
     "start_time": "2024-09-04T10:57:33.869077",
     "status": "completed"
    },
    "tags": []
   },
   "outputs": [],
   "source": []
  }
 ],
 "metadata": {
  "colab": {
   "collapsed_sections": [
    "-gc0vttU7Dkf",
    "CFM27SfS1QSD"
   ],
   "include_colab_link": true,
   "name": "C2_W2_Assignment.ipynb",
   "provenance": [],
   "toc_visible": true
  },
  "kaggle": {
   "accelerator": "none",
   "dataSources": [
    {
     "databundleVersionId": 5687476,
     "sourceId": 52784,
     "sourceType": "competition"
    }
   ],
   "dockerImageVersionId": 30761,
   "isGpuEnabled": false,
   "isInternetEnabled": false,
   "language": "python",
   "sourceType": "notebook"
  },
  "kernelspec": {
   "display_name": "Python 3",
   "language": "python",
   "name": "python3"
  },
  "language_info": {
   "codemirror_mode": {
    "name": "ipython",
    "version": 3
   },
   "file_extension": ".py",
   "mimetype": "text/x-python",
   "name": "python",
   "nbconvert_exporter": "python",
   "pygments_lexer": "ipython3",
   "version": "3.10.14"
  },
  "papermill": {
   "default_parameters": {},
   "duration": 30.401241,
   "end_time": "2024-09-04T10:57:35.210564",
   "environment_variables": {},
   "exception": null,
   "input_path": "__notebook__.ipynb",
   "output_path": "__notebook__.ipynb",
   "parameters": {},
   "start_time": "2024-09-04T10:57:04.809323",
   "version": "2.6.0"
  }
 },
 "nbformat": 4,
 "nbformat_minor": 5
}
